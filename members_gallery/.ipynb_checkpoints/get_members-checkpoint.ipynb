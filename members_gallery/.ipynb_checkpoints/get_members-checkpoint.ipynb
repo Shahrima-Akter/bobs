{
 "cells": [
  {
   "cell_type": "code",
   "execution_count": 28,
   "id": "dc8f93be-8102-40a8-a389-f3cce5dd171d",
   "metadata": {},
   "outputs": [
    {
     "data": {
      "text/plain": [
       "'23W-GBAC'"
      ]
     },
     "execution_count": 28,
     "metadata": {},
     "output_type": "execute_result"
    }
   ],
   "source": [
    "import requests\n",
    "from dotenv import dotenv_values\n",
    "\n",
    "config = dotenv_values(\"../.env\")\n",
    "config"
   ]
  },
  {
   "cell_type": "code",
   "execution_count": null,
   "id": "9a0c4c2e-1292-41c1-a8fa-12eed5a885d0",
   "metadata": {},
   "outputs": [],
   "source": [
    "headers = {\n",
    "     'Authorization': f'token {config['GHTOKEN']}',\n",
    "     'Accept': 'application/vnd.github.v3+json'\n",
    "}\n",
    "\n",
    "response = requests.get(f\"https://api.github.com/orgs/{config['GHORG']}/repos?per_page=100\")\n",
    "\n",
    "if response.status_code == 200:\n",
    "    json = response.json()\n",
    "    \n",
    "    names = []\n",
    "    for repo in json:\n",
    "        names.append(repo['name'])\n",
    "    else:\n",
    "        print(f\"Failed to fetch members. Status code: {response.status_code}\")\n",
    "\n",
    "authors = []\n",
    "for name in names:\n",
    "    # https://api.github.com/repos/23W-GBAC/SenaDok/commits\n",
    "    url = f\"https://api.github.com/repos/23W-GBAC/{name}/commits\"\n",
    "    # get author of last commit\n",
    "    response = requests.get(url)\n",
    "    if response.status_code == 200:\n",
    "        author = response.json()[0]['author']\n",
    "        authors.append(author)\n",
    "    else:\n",
    "        print(f\"Failed to fetch members. Status code: {response.status_code}\")\n",
    "    \n",
    "\n",
    "authors"
   ]
  }
 ],
 "metadata": {
  "kernelspec": {
   "display_name": "Python 3 (ipykernel)",
   "language": "python",
   "name": "python3"
  },
  "language_info": {
   "codemirror_mode": {
    "name": "ipython",
    "version": 3
   },
   "file_extension": ".py",
   "mimetype": "text/x-python",
   "name": "python",
   "nbconvert_exporter": "python",
   "pygments_lexer": "ipython3",
   "version": "3.11.6"
  }
 },
 "nbformat": 4,
 "nbformat_minor": 5
}
